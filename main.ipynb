{
 "cells": [
  {
   "cell_type": "code",
   "execution_count": 2,
   "metadata": {},
   "outputs": [],
   "source": [
    "from selenium.webdriver.common.by import By\n",
    "from webscraper import WebScraper\n",
    "\n",
    "postcode = 'hp6 6hq'\n",
    "no_beds = 2\n",
    "radius = 0.25\n",
    "last_years = 10\n",
    "ws = WebScraper()\n",
    "dataset = []\n",
    "\n",
    "for i in range(1, 10):\n",
    "    url = f'https://www.rightmove.co.uk/house-prices/{postcode}.html?tenure=FREEHOLD&soldIn={last_years}&radius={radius}&page={i}'\n",
    "    ws.driver.get(url)\n",
    "    listings = ws.find_xpaths('class=\"propertyCard\"', multi=True)\n",
    "    if listings == None:\n",
    "        break\n",
    "    for listing in listings:\n",
    "        data = listing.text\n",
    "        dataset.append(data.split('\\n'))"
   ]
  },
  {
   "cell_type": "code",
   "execution_count": 3,
   "metadata": {},
   "outputs": [
    {
     "data": {
      "text/html": [
       "<div>\n",
       "<style scoped>\n",
       "    .dataframe tbody tr th:only-of-type {\n",
       "        vertical-align: middle;\n",
       "    }\n",
       "\n",
       "    .dataframe tbody tr th {\n",
       "        vertical-align: top;\n",
       "    }\n",
       "\n",
       "    .dataframe thead th {\n",
       "        text-align: right;\n",
       "    }\n",
       "</style>\n",
       "<table border=\"1\" class=\"dataframe\">\n",
       "  <thead>\n",
       "    <tr style=\"text-align: right;\">\n",
       "      <th></th>\n",
       "      <th>address</th>\n",
       "      <th>1</th>\n",
       "      <th>2</th>\n",
       "      <th>3</th>\n",
       "      <th>1_price</th>\n",
       "      <th>1_date</th>\n",
       "      <th>2_price</th>\n",
       "      <th>2_date</th>\n",
       "      <th>3_price</th>\n",
       "      <th>3_date</th>\n",
       "      <th>size</th>\n",
       "      <th>geocoded</th>\n",
       "      <th>hover_text</th>\n",
       "    </tr>\n",
       "  </thead>\n",
       "  <tbody>\n",
       "    <tr>\n",
       "      <th>1</th>\n",
       "      <td>3, Hardwicke Gardens, Amersham, Buckinghamshire HP6 6AH</td>\n",
       "      <td>£355,000 10 Dec 2021 Freehold</td>\n",
       "      <td>No other historical records</td>\n",
       "      <td>8</td>\n",
       "      <td>355000.0</td>\n",
       "      <td>Dec 2021</td>\n",
       "      <td>NaN</td>\n",
       "      <td>NaN</td>\n",
       "      <td>NaN</td>\n",
       "      <td>NaN</td>\n",
       "      <td>2</td>\n",
       "      <td>(51.6762036, -0.598047)</td>\n",
       "      <td>3, Hardwicke Gardens, Amersham, Buckinghamshire HP6 6AH&lt;br&gt;2 beds&lt;br&gt;£355k&lt;br&gt;Dec 2021</td>\n",
       "    </tr>\n",
       "    <tr>\n",
       "      <th>3</th>\n",
       "      <td>18, Hyrons Lane, Amersham, Buckinghamshire HP6 5AS</td>\n",
       "      <td>£635,000 15 Sep 2021 Freehold</td>\n",
       "      <td>No other historical records</td>\n",
       "      <td>9</td>\n",
       "      <td>635000.0</td>\n",
       "      <td>Sep 2021</td>\n",
       "      <td>NaN</td>\n",
       "      <td>NaN</td>\n",
       "      <td>NaN</td>\n",
       "      <td>NaN</td>\n",
       "      <td>2</td>\n",
       "      <td>(51.67462889999999, -0.6002071999999999)</td>\n",
       "      <td>18, Hyrons Lane, Amersham, Buckinghamshire HP6 5AS&lt;br&gt;2 beds&lt;br&gt;£635k&lt;br&gt;Sep 2021</td>\n",
       "    </tr>\n",
       "    <tr>\n",
       "      <th>4</th>\n",
       "      <td>69, Grimsdells Lane, Amersham, Buckinghamshire HP6 6HH</td>\n",
       "      <td>£985,000 2 Aug 2021 Freehold</td>\n",
       "      <td>£680,000 15 Jun 2015 Freehold</td>\n",
       "      <td>£278,500 6 Apr 2000 Freehold</td>\n",
       "      <td>985000.0</td>\n",
       "      <td>Aug 2021</td>\n",
       "      <td>680000.0</td>\n",
       "      <td>Jun 2015</td>\n",
       "      <td>278500.0</td>\n",
       "      <td>Apr 2000</td>\n",
       "      <td>3</td>\n",
       "      <td>(51.6782694, -0.5973126)</td>\n",
       "      <td>69, Grimsdells Lane, Amersham, Buckinghamshire HP6 6HH&lt;br&gt;3 beds&lt;br&gt;£985k&lt;br&gt;Aug 2021</td>\n",
       "    </tr>\n",
       "    <tr>\n",
       "      <th>6</th>\n",
       "      <td>25, Mitchell Walk, Amersham, Buckinghamshire HP6 6NW</td>\n",
       "      <td>£875,000 25 Jun 2021 Freehold</td>\n",
       "      <td>No other historical records</td>\n",
       "      <td>8</td>\n",
       "      <td>875000.0</td>\n",
       "      <td>Jun 2021</td>\n",
       "      <td>NaN</td>\n",
       "      <td>NaN</td>\n",
       "      <td>NaN</td>\n",
       "      <td>NaN</td>\n",
       "      <td>3</td>\n",
       "      <td>(51.6765959, -0.5944775)</td>\n",
       "      <td>25, Mitchell Walk, Amersham, Buckinghamshire HP6 6NW&lt;br&gt;3 beds&lt;br&gt;£875k&lt;br&gt;Jun 2021</td>\n",
       "    </tr>\n",
       "    <tr>\n",
       "      <th>7</th>\n",
       "      <td>10, Meadow Drive, Amersham, Buckinghamshire HP6 6LB</td>\n",
       "      <td>£440,000 23 Jun 2021 Freehold</td>\n",
       "      <td>No other historical records</td>\n",
       "      <td>8</td>\n",
       "      <td>440000.0</td>\n",
       "      <td>Jun 2021</td>\n",
       "      <td>NaN</td>\n",
       "      <td>NaN</td>\n",
       "      <td>NaN</td>\n",
       "      <td>NaN</td>\n",
       "      <td>3</td>\n",
       "      <td>(51.6792617, -0.5944294)</td>\n",
       "      <td>10, Meadow Drive, Amersham, Buckinghamshire HP6 6LB&lt;br&gt;3 beds&lt;br&gt;£440k&lt;br&gt;Jun 2021</td>\n",
       "    </tr>\n",
       "  </tbody>\n",
       "</table>\n",
       "</div>"
      ],
      "text/plain": [
       "                                                   address  \\\n",
       "1  3, Hardwicke Gardens, Amersham, Buckinghamshire HP6 6AH   \n",
       "3       18, Hyrons Lane, Amersham, Buckinghamshire HP6 5AS   \n",
       "4   69, Grimsdells Lane, Amersham, Buckinghamshire HP6 6HH   \n",
       "6     25, Mitchell Walk, Amersham, Buckinghamshire HP6 6NW   \n",
       "7      10, Meadow Drive, Amersham, Buckinghamshire HP6 6LB   \n",
       "\n",
       "                               1                              2  \\\n",
       "1  £355,000 10 Dec 2021 Freehold    No other historical records   \n",
       "3  £635,000 15 Sep 2021 Freehold    No other historical records   \n",
       "4   £985,000 2 Aug 2021 Freehold  £680,000 15 Jun 2015 Freehold   \n",
       "6  £875,000 25 Jun 2021 Freehold    No other historical records   \n",
       "7  £440,000 23 Jun 2021 Freehold    No other historical records   \n",
       "\n",
       "                              3   1_price    1_date   2_price    2_date  \\\n",
       "1                             8  355000.0  Dec 2021       NaN       NaN   \n",
       "3                             9  635000.0  Sep 2021       NaN       NaN   \n",
       "4  £278,500 6 Apr 2000 Freehold  985000.0  Aug 2021  680000.0  Jun 2015   \n",
       "6                             8  875000.0  Jun 2021       NaN       NaN   \n",
       "7                             8  440000.0  Jun 2021       NaN       NaN   \n",
       "\n",
       "    3_price    3_date  size                                  geocoded  \\\n",
       "1       NaN       NaN     2                   (51.6762036, -0.598047)   \n",
       "3       NaN       NaN     2  (51.67462889999999, -0.6002071999999999)   \n",
       "4  278500.0  Apr 2000     3                  (51.6782694, -0.5973126)   \n",
       "6       NaN       NaN     3                  (51.6765959, -0.5944775)   \n",
       "7       NaN       NaN     3                  (51.6792617, -0.5944294)   \n",
       "\n",
       "                                                                               hover_text  \n",
       "1  3, Hardwicke Gardens, Amersham, Buckinghamshire HP6 6AH<br>2 beds<br>£355k<br>Dec 2021  \n",
       "3       18, Hyrons Lane, Amersham, Buckinghamshire HP6 5AS<br>2 beds<br>£635k<br>Sep 2021  \n",
       "4   69, Grimsdells Lane, Amersham, Buckinghamshire HP6 6HH<br>3 beds<br>£985k<br>Aug 2021  \n",
       "6     25, Mitchell Walk, Amersham, Buckinghamshire HP6 6NW<br>3 beds<br>£875k<br>Jun 2021  \n",
       "7      10, Meadow Drive, Amersham, Buckinghamshire HP6 6LB<br>3 beds<br>£440k<br>Jun 2021  "
      ]
     },
     "execution_count": 3,
     "metadata": {},
     "output_type": "execute_result"
    }
   ],
   "source": [
    "import googlemaps\n",
    "import pandas as pd\n",
    "import os\n",
    "\n",
    "gmaps_key = googlemaps.Client(key=os.getenv('GMAPS_API_KEY'))\n",
    "pd.set_option(\"max_colwidth\", 200)\n",
    "\n",
    "def geocode(address):\n",
    "    g = gmaps_key.geocode(address)\n",
    "    lat = g[0][\"geometry\"][\"location\"][\"lat\"]\n",
    "    lng = g[0][\"geometry\"][\"location\"][\"lng\"]\n",
    "    return (lat, lng)\n",
    "\n",
    "df = pd.DataFrame(dataset, columns=['address', 'house_size', '1', '2', '3', 'ignore', 'ignore', 'ignore'])\n",
    "map_centre = geocode(postcode)\n",
    "for i in range(1, 4):\n",
    "    df.loc[df[f'{i}'].str.split().str[0].str[0] == '£', f'{i}_price'] = df[f'{i}'].str.split().str[0]\n",
    "    df.loc[df[f'{i}'].str.split().str[0].str[0] == '£', f'{i}_date'] = df[f'{i}'].str.split().str[2:4]\n",
    "    df[f'{i}_price'] = df[f'{i}_price'].str[1:].str.replace(',', '').astype('float')\n",
    "    df[f'{i}_date'] = df.loc[~df[f'{i}_date'].isna(), f'{i}_date'].apply(lambda x: ' '.join(x))\n",
    "df['size'] = df.loc[df['house_size'].str.contains('bed', case=False), 'house_size'].str.split().str[0]\n",
    "df.drop(df[df['size'].isna()].index, inplace=True)\n",
    "df['size'] = pd.to_numeric(df['size'], errors='coerce')\n",
    "df.drop(df[df['size'] > (no_beds + 1)].index, inplace=True)\n",
    "df['geocoded'] = df['address'].apply(geocode)\n",
    "df['hover_text'] = df[\"address\"] + '<br>' + \\\n",
    "                    df[\"size\"].map(str) + ' beds<br>' + \\\n",
    "                    '£' + ((df[\"1_price\"]/1000).map(int)).map(str) + 'k<br>' + \\\n",
    "                    df[\"1_date\"]\n",
    "df = df.drop(columns=['ignore', 'house_size'])\n",
    "df.head()\n",
    "# https://www.natasshaselvaraj.com/a-step-by-step-guide-on-geocoding-in-python/"
   ]
  },
  {
   "cell_type": "code",
   "execution_count": 4,
   "metadata": {},
   "outputs": [
    {
     "data": {
      "application/vnd.plotly.v1+json": {
       "config": {
        "plotlyServerURL": "https://plot.ly"
       },
       "data": [
        {
         "lat": [
          51.6762036,
          51.67462889999999,
          51.6782694,
          51.6765959,
          51.6792617,
          51.6764121,
          51.6783119,
          51.6778081,
          51.6799583,
          51.6783116,
          51.6784553,
          51.6770878,
          51.6746731,
          51.6817176,
          51.6788201,
          51.6791411,
          51.676601,
          51.6751845,
          51.6743426,
          51.6782949,
          51.678885,
          51.6776087,
          51.6771073,
          51.6771105,
          51.6767373,
          51.6746095,
          51.678284,
          51.6789156,
          51.6764362,
          51.67781069999999,
          51.6790321,
          51.6773325,
          51.6770429,
          51.678346,
          51.6790349,
          51.6767927,
          51.6770089,
          51.68013269999999,
          51.6773462,
          51.6803135,
          51.6769268,
          51.6770875,
          51.680127,
          51.6760427,
          51.6767426,
          51.67753459999999,
          51.67752249999999,
          51.6775204,
          51.6775138,
          51.6767198,
          51.6787091,
          51.67447929999999,
          51.678382,
          51.67907659999999,
          51.6762796,
          51.6776104,
          51.6753235,
          51.6790533,
          51.67462889999999,
          51.6770878,
          51.6737765,
          51.6800058,
          51.674314,
          51.6767111,
          51.6791771,
          51.6736119,
          51.67898779999999,
          51.6773416,
          51.6783073,
          51.6766876,
          51.6769914,
          51.67879869999999,
          51.67895009999999,
          51.6795292,
          51.6738969,
          51.6792548,
          51.6801469,
          51.68006339999999,
          51.6783521,
          51.68057229999999,
          51.677924,
          51.6804256,
          51.67793589999999,
          51.6748536,
          51.6801267,
          51.6793022,
          51.676289,
          51.67826960000001,
          51.6801666,
          51.6741553,
          51.68013269999999,
          51.675992,
          51.6783268,
          51.6778981,
          51.68013269999999,
          51.6748454,
          51.6791001,
          51.6792215,
          51.67689679999999,
          51.6746517,
          51.6741075,
          51.6774151,
          51.674954,
          51.6745621,
          51.6767357,
          51.6783319,
          51.67933799999999,
          51.6798206,
          51.6767046,
          51.6769967,
          51.68013269999999,
          51.6777155,
          51.676526,
          51.68013269999999,
          51.6788697,
          51.6786818,
          51.6773236
         ],
         "lon": [
          -0.598047,
          -0.6002071999999999,
          -0.5973126,
          -0.5944775,
          -0.5944294,
          -0.5922443,
          -0.5950156999999999,
          -0.5960402,
          -0.599602,
          -0.5950856999999999,
          -0.6012360999999999,
          -0.5975425,
          -0.6002214,
          -0.6004096,
          -0.5937568999999999,
          -0.5946064999999999,
          -0.5995514,
          -0.59678,
          -0.6004476,
          -0.6022491999999999,
          -0.5976990999999999,
          -0.5977184,
          -0.5930539,
          -0.5971036,
          -0.5942849,
          -0.5965344,
          -0.5978399,
          -0.5936755,
          -0.5992133,
          -0.6023653999999999,
          -0.5966686999999999,
          -0.5955083999999999,
          -0.5923482,
          -0.5984341,
          -0.594689,
          -0.5951628,
          -0.5950776,
          -0.5965081999999999,
          -0.5926274,
          -0.5947804,
          -0.594158,
          -0.5975427,
          -0.5942845999999999,
          -0.5959936,
          -0.5980264,
          -0.5960837999999999,
          -0.5978038,
          -0.5929827,
          -0.6001892999999999,
          -0.5943868999999999,
          -0.5938110999999999,
          -0.5978378999999999,
          -0.5994613999999999,
          -0.5946566,
          -0.6000227,
          -0.5980597999999999,
          -0.5957683,
          -0.5949382,
          -0.6002071999999999,
          -0.5975425,
          -0.5984292999999999,
          -0.5938386999999999,
          -0.5979743,
          -0.5961129,
          -0.5944488,
          -0.5984258,
          -0.5936421,
          -0.5955782,
          -0.5979667,
          -0.6007314,
          -0.5976585,
          -0.6021529999999999,
          -0.5950059999999999,
          -0.5941692,
          -0.5989964999999999,
          -0.5998042,
          -0.594425,
          -0.5985498,
          -0.5952031999999999,
          -0.5957194,
          -0.6000346999999999,
          -0.5962972999999999,
          -0.5962723999999999,
          -0.5970995,
          -0.5943545,
          -0.5945703,
          -0.5961388,
          -0.5966462,
          -0.5946119999999999,
          -0.5988222999999999,
          -0.5965081999999999,
          -0.597882,
          -0.5940946,
          -0.5994835,
          -0.5965081999999999,
          -0.5946389999999999,
          -0.6026887,
          -0.6003427,
          -0.6000827000000001,
          -0.5985959,
          -0.5981098,
          -0.6001067999999999,
          -0.5965722999999999,
          -0.5977464,
          -0.5952318999999999,
          -0.5951328,
          -0.5964834,
          -0.5979582999999999,
          -0.5954524000000001,
          -0.5986501,
          -0.5965081999999999,
          -0.6009867999999999,
          -0.600102,
          -0.5965081999999999,
          -0.5946077,
          -0.6016671,
          -0.5971057
         ],
         "marker": {
          "color": [
           355000,
           635000,
           985000,
           875000,
           440000,
           416667,
           510000,
           680000,
           880000,
           426500,
           610000,
           715000,
           505000,
           865000,
           570000,
           450000,
           680000,
           651000,
           620000,
           550000,
           505000,
           711000,
           555000,
           749450,
           475000,
           825000,
           649950,
           540000,
           630000,
           349950,
           575000,
           436000,
           451000,
           750000,
           392500,
           407250,
           385000,
           400000,
           740000,
           625000,
           643000,
           675000,
           430000,
           460000,
           760000,
           510000,
           760000,
           575000,
           812500,
           495000,
           514100,
           625000,
           742500,
           411500,
           610000,
           592000,
           750000,
           425000,
           525000,
           675000,
           680000,
           415000,
           675000,
           467500,
           390000,
           650000,
           570000,
           550000,
           580000,
           580000,
           601000,
           305000,
           365000,
           275000,
           523000,
           850000,
           355000,
           516000,
           370000,
           590000,
           515000,
           423000,
           490000,
           647037,
           325000,
           312000,
           446500,
           580000,
           440000,
           453000,
           295000,
           345000,
           390000,
           500000,
           308000,
           490000,
           605000,
           610000,
           540000,
           535000,
           520000,
           500000,
           487500,
           575000,
           275000,
           270000,
           396599,
           650000,
           246000,
           442000,
           260000,
           560000,
           579950,
           270000,
           265000,
           222500,
           495000
          ],
          "colorscale": [
           [
            0,
            "rgb(0,0,255)"
           ],
           [
            1,
            "rgb(255,0,0)"
           ]
          ],
          "showscale": true,
          "size": [
           2,
           2,
           3,
           3,
           3,
           3,
           3,
           3,
           3,
           2,
           2,
           3,
           2,
           3,
           3,
           3,
           3,
           3,
           2,
           3,
           3,
           3,
           3,
           3,
           2,
           3,
           3,
           3,
           3,
           3,
           2,
           3,
           3,
           3,
           3,
           2,
           2,
           3,
           3,
           3,
           2,
           3,
           2,
           3,
           3,
           3,
           3,
           3,
           3,
           2,
           3,
           3,
           3,
           3,
           3,
           3,
           3,
           3,
           3,
           3,
           3,
           2,
           3,
           3,
           3,
           2,
           3,
           3,
           3,
           3,
           3,
           1,
           3,
           2,
           3,
           3,
           2,
           3,
           2,
           3,
           3,
           3,
           3,
           3,
           2,
           3,
           3,
           3,
           3,
           2,
           3,
           2,
           2,
           3,
           3,
           3,
           3,
           3,
           3,
           2,
           3,
           3,
           3,
           3,
           2,
           3,
           3,
           3,
           2,
           3,
           3,
           3,
           3,
           3,
           3,
           1,
           3
          ],
          "sizeref": 0.15
         },
         "mode": "markers",
         "text": [
          "3, Hardwicke Gardens, Amersham, Buckinghamshire HP6 6AH<br>2 beds<br>£355k<br>Dec 2021",
          "18, Hyrons Lane, Amersham, Buckinghamshire HP6 5AS<br>2 beds<br>£635k<br>Sep 2021",
          "69, Grimsdells Lane, Amersham, Buckinghamshire HP6 6HH<br>3 beds<br>£985k<br>Aug 2021",
          "25, Mitchell Walk, Amersham, Buckinghamshire HP6 6NW<br>3 beds<br>£875k<br>Jun 2021",
          "10, Meadow Drive, Amersham, Buckinghamshire HP6 6LB<br>3 beds<br>£440k<br>Jun 2021",
          "65, Plantation Road, Amersham, Buckinghamshire HP6 6HW<br>3 beds<br>£416k<br>Jun 2021",
          "60, Plantation Road, Amersham, Buckinghamshire HP6 6HL<br>3 beds<br>£510k<br>Jun 2021",
          "25, Green Lane, Amersham, Buckinghamshire HP6 6AS<br>3 beds<br>£680k<br>Mar 2021",
          "4, Chestnut Close, Amersham, Buckinghamshire HP6 6EQ<br>3 beds<br>£880k<br>Jan 2021",
          "58, Plantation Road, Amersham, Buckinghamshire HP6 6HL<br>2 beds<br>£426k<br>Dec 2020",
          "19, Grimsdells Lane, Amersham, Buckinghamshire HP6 6HF<br>2 beds<br>£610k<br>Dec 2020",
          "4, Green Lane, Amersham, Buckinghamshire HP6 6AR<br>3 beds<br>£715k<br>Dec 2020",
          "14, Hyrons Lane, Amersham, Buckinghamshire HP6 5AS<br>2 beds<br>£505k<br>Dec 2020",
          "97, Chestnut Lane, Amersham, Buckinghamshire HP6 6EH<br>3 beds<br>£865k<br>Nov 2020",
          "20, New Road, Amersham, Buckinghamshire HP6 6LD<br>3 beds<br>£570k<br>Oct 2020",
          "15, Meadow Drive, Amersham, Buckinghamshire HP6 6LB<br>3 beds<br>£450k<br>Oct 2020",
          "80, Woodside Road, Amersham, Buckinghamshire HP6 6AN<br>3 beds<br>£680k<br>Sep 2020",
          "112, Woodside Road, Amersham, Buckinghamshire HP6 6NL<br>3 beds<br>£651k<br>Sep 2020",
          "20, Hyrons Lane, Amersham, Buckinghamshire HP6 5AS<br>2 beds<br>£620k<br>Aug 2020",
          "15, Shortway, Amersham, Buckinghamshire HP6 6AQ<br>3 beds<br>£550k<br>Jun 2020",
          "3, Plantation Road, Amersham, Buckinghamshire HP6 6HJ<br>3 beds<br>£505k<br>Jun 2020",
          "49, Highfield Close, Amersham, Buckinghamshire HP6 6HQ<br>3 beds<br>£711k<br>Dec 2019",
          "67, Plantation Road, Amersham, Buckinghamshire HP6 6HW<br>3 beds<br>£555k<br>Dec 2019",
          "43, Green Lane, Amersham, Buckinghamshire HP6 6AR<br>3 beds<br>£749k<br>Nov 2019",
          "29, Mitchell Walk, Amersham, Buckinghamshire HP6 6NW<br>2 beds<br>£475k<br>Nov 2019",
          "143, Woodside Road, Amersham, Buckinghamshire HP6 6NJ<br>3 beds<br>£825k<br>Sep 2019",
          "61, Grimsdells Lane, Amersham, Buckinghamshire HP6 6HH<br>3 beds<br>£649k<br>Aug 2019",
          "24, New Road, Amersham, Buckinghamshire HP6 6LD<br>3 beds<br>£540k<br>Jun 2019",
          "86, Woodside Road, Amersham, Buckinghamshire HP6 6AN<br>3 beds<br>£630k<br>Jun 2019",
          "50, Woodside Road, Amersham, Buckinghamshire HP6 6AJ<br>3 beds<br>£349k<br>May 2019",
          "1, Plantation Road, Amersham, Buckinghamshire HP6 6HJ<br>2 beds<br>£575k<br>May 2019",
          "8, Briery Way, Amersham, Buckinghamshire HP6 6AT<br>3 beds<br>£436k<br>Apr 2019",
          "108, Plantation Road, Amersham, Buckinghamshire HP6 6HW<br>3 beds<br>£451k<br>Apr 2019",
          "53, Grimsdells Lane, Amersham, Buckinghamshire HP6 6HH<br>3 beds<br>£750k<br>Nov 2018",
          "6, Meadow Drive, Amersham, Buckinghamshire HP6 6LB<br>3 beds<br>£392k<br>Nov 2018",
          "22, Briery Way, Amersham, Buckinghamshire HP6 6AT<br>2 beds<br>£407k<br>Oct 2018",
          "18, Briery Way, Amersham, Buckinghamshire HP6 6AT<br>2 beds<br>£385k<br>Sep 2018",
          "24, The Penningtons, Amersham, Buckinghamshire HP6 6EJ<br>3 beds<br>£400k<br>Jul 2018",
          "100, Plantation Road, Amersham, Buckinghamshire HP6 6HW<br>3 beds<br>£740k<br>Jul 2018",
          "1, Rose Court, Amersham, Buckinghamshire HP6 6FD<br>3 beds<br>£625k<br>Jul 2018",
          "33, Mitchell Walk, Amersham, Buckinghamshire HP6 6NW<br>2 beds<br>£643k<br>Jul 2018",
          "1, Green Lane, Amersham, Buckinghamshire HP6 6AR<br>3 beds<br>£675k<br>Jun 2018",
          "10, Rose Court, Amersham, Buckinghamshire HP6 6FD<br>2 beds<br>£430k<br>May 2018",
          "39, Briery Way, Amersham, Buckinghamshire HP6 6AU<br>3 beds<br>£460k<br>Dec 2017",
          "6, Green Lane, Amersham, Buckinghamshire HP6 6AR<br>3 beds<br>£760k<br>Nov 2017",
          "36, Briery Way, Amersham, Buckinghamshire HP6 6AT<br>3 beds<br>£510k<br>Nov 2017",
          "39, Highfield Close, Amersham, Buckinghamshire HP6 6HQ<br>3 beds<br>£760k<br>Sep 2017",
          "94, Plantation Road, Amersham, Buckinghamshire HP6 6HW<br>3 beds<br>£575k<br>Aug 2017",
          "15, Highfield Close, Amersham, Buckinghamshire HP6 6HG<br>3 beds<br>£812k<br>Jul 2017",
          "27, Mitchell Walk, Amersham, Buckinghamshire HP6 6NW<br>2 beds<br>£495k<br>Jul 2017",
          "16, New Road, Amersham, Buckinghamshire HP6 6LD<br>3 beds<br>£514k<br>Jul 2017",
          "8, Orchard Lane, Amersham, Buckinghamshire HP6 5AB<br>3 beds<br>£625k<br>Jul 2017",
          "43, Grimsdells Lane, Amersham, Buckinghamshire HP6 6HF<br>3 beds<br>£742k<br>May 2017",
          "17, Meadow Drive, Amersham, Buckinghamshire HP6 6LB<br>3 beds<br>£411k<br>May 2017",
          "111, Woodside Road, Amersham, Buckinghamshire HP6 6AL<br>3 beds<br>£610k<br>Apr 2017",
          "44, Highfield Close, Amersham, Buckinghamshire HP6 6HQ<br>3 beds<br>£592k<br>Apr 2017",
          "3, Mitchell Walk, Amersham, Buckinghamshire HP6 6NN<br>3 beds<br>£750k<br>Mar 2017",
          "5, Meadow Drive, Amersham, Buckinghamshire HP6 6LB<br>3 beds<br>£425k<br>Jan 2017",
          "8, Hyrons Lane, Amersham, Buckinghamshire HP6 5AS<br>3 beds<br>£525k<br>Jan 2017",
          "42, Green Lane, Amersham, Buckinghamshire HP6 6AR<br>3 beds<br>£675k<br>Dec 2016",
          "26, Orchard Lane, Amersham, Buckinghamshire HP6 5AB<br>3 beds<br>£680k<br>Sep 2016",
          "9, Parchment Close, Amersham, Buckinghamshire HP6 6NZ<br>2 beds<br>£415k<br>Aug 2016",
          "12, Orchard Lane, Amersham, Buckinghamshire HP6 5AB<br>3 beds<br>£675k<br>Aug 2016",
          "25, Briery Way, Amersham, Buckinghamshire HP6 6AU<br>3 beds<br>£467k<br>Aug 2016",
          "9, Meadow Drive, Amersham, Buckinghamshire HP6 6LB<br>3 beds<br>£390k<br>Jul 2016",
          "28, Orchard Lane, Amersham, Buckinghamshire HP6 5AB<br>2 beds<br>£650k<br>Jul 2016",
          "26, New Road, Amersham, Buckinghamshire HP6 6LD<br>3 beds<br>£570k<br>Jun 2016",
          "6, Briery Way, Amersham, Buckinghamshire HP6 6AT<br>3 beds<br>£550k<br>Jun 2016",
          "59, Grimsdells Lane, Amersham, Buckinghamshire HP6 6HH<br>3 beds<br>£580k<br>Jun 2016",
          "97, Woodside Road, Amersham, Buckinghamshire HP6 6AL<br>3 beds<br>£580k<br>Dec 2015",
          "10, Green Lane, Amersham, Buckinghamshire HP6 6AR<br>3 beds<br>£601k<br>Nov 2015",
          "9, Grimsdells Lane, Amersham, Buckinghamshire HP6 6HF<br>1 beds<br>£305k<br>Nov 2015",
          "21, Meadow Drive, Amersham, Buckinghamshire HP6 6LB<br>3 beds<br>£365k<br>Nov 2015",
          "6, Cherry Orchard, Amersham, Buckinghamshire HP6 6LE<br>2 beds<br>£275k<br>Oct 2015",
          "15, Orchard Lane, Amersham, Buckinghamshire HP6 5AB<br>3 beds<br>£523k<br>Sep 2015",
          "4, Tall Oaks, Amersham, Buckinghamshire HP6 6HB<br>3 beds<br>£850k<br>Sep 2015",
          "8, Rose Court, Amersham, Buckinghamshire HP6 6FD<br>2 beds<br>£355k<br>Aug 2015",
          "14, Chestnut Close, Amersham, Buckinghamshire HP6 6EQ<br>3 beds<br>£516k<br>Aug 2015",
          "54, Plantation Road, Amersham, Buckinghamshire HP6 6HL<br>2 beds<br>£370k<br>Jul 2015",
          "78, Chestnut Lane, Amersham, Buckinghamshire HP6 6EH<br>3 beds<br>£590k<br>Jun 2015",
          "26a, Highfield Close, Amersham, Buckinghamshire HP6 6HG<br>3 beds<br>£515k<br>Jun 2015",
          "72, Chestnut Lane, Amersham, Buckinghamshire HP6 6EH<br>3 beds<br>£423k<br>May 2015",
          "34, Green Lane, Amersham, Buckinghamshire HP6 6AS<br>3 beds<br>£490k<br>Mar 2015",
          "137, Woodside Road, Amersham, Buckinghamshire HP6 6NJ<br>3 beds<br>£647k<br>Jan 2015",
          "9, Rose Court, Amersham, Buckinghamshire HP6 6FD<br>2 beds<br>£325k<br>Dec 2014",
          "11, Meadow Drive, Amersham, Buckinghamshire HP6 6LB<br>3 beds<br>£312k<br>Nov 2014",
          "33, Briery Way, Amersham, Buckinghamshire HP6 6AU<br>3 beds<br>£446k<br>Oct 2014",
          "79, Grimsdells Lane, Amersham, Buckinghamshire HP6 6HH<br>3 beds<br>£580k<br>Oct 2014",
          "5, Rose Court, Amersham, Buckinghamshire HP6 6FD<br>3 beds<br>£440k<br>Oct 2014",
          "11, Orchard Lane, Amersham, Buckinghamshire HP6 5AB<br>2 beds<br>£453k<br>Jul 2014",
          "23, The Penningtons, Amersham, Buckinghamshire HP6 6EJ<br>3 beds<br>£295k<br>Jun 2014",
          "11, Hardwicke Gardens, Amersham, Buckinghamshire HP6 6AH<br>2 beds<br>£345k<br>Jun 2014",
          "2, New Road, Amersham, Buckinghamshire HP6 6LA<br>2 beds<br>£390k<br>Jun 2014",
          "53, Highfield Close, Amersham, Buckinghamshire HP6 6HQ<br>3 beds<br>£500k<br>May 2014",
          "21, The Penningtons, Amersham, Buckinghamshire HP6 6EJ<br>3 beds<br>£308k<br>Jan 2014",
          "8, Kennards Court, Amersham, Buckinghamshire HP6 6FE<br>3 beds<br>£490k<br>Nov 2013",
          "2a, Grimsdells Lane, Amersham, Buckinghamshire HP6 6HE<br>3 beds<br>£605k<br>Nov 2013",
          "1, Tall Oaks, Amersham, Buckinghamshire HP6 6HB<br>3 beds<br>£610k<br>Oct 2013",
          "70, Woodside Road, Amersham, Buckinghamshire HP6 6AN<br>3 beds<br>£540k<br>Oct 2013",
          "3b, Orchard Lane, Amersham, Buckinghamshire HP6 5AB<br>2 beds<br>£535k<br>Aug 2013",
          "16, Orchard Lane, Amersham, Buckinghamshire HP6 5AB<br>3 beds<br>£520k<br>Jun 2013",
          "2, Highfield Close, Amersham, Buckinghamshire HP6 6HG<br>3 beds<br>£500k<br>Jun 2013",
          "116a, Woodside Road, Amersham, Buckinghamshire HP6 6NL<br>3 beds<br>£487k<br>May 2013",
          "6, Orchard Lane, Amersham, Buckinghamshire HP6 5AB<br>3 beds<br>£575k<br>Apr 2013",
          "26, Briery Way, Amersham, Buckinghamshire HP6 6AT<br>2 beds<br>£275k<br>Jan 2013",
          "56, Plantation Road, Amersham, Buckinghamshire HP6 6HL<br>3 beds<br>£270k<br>Jan 2013",
          "16, Plantation Road, Amersham, Buckinghamshire HP6 6HJ<br>3 beds<br>£396k<br>Dec 2012",
          "23, Chestnut Close, Amersham, Buckinghamshire HP6 6EQ<br>3 beds<br>£650k<br>Nov 2012",
          "32, Briery Way, Amersham, Buckinghamshire HP6 6AT<br>2 beds<br>£246k<br>Oct 2012",
          "58, Highfield Close, Amersham, Buckinghamshire HP6 6HQ<br>3 beds<br>£442k<br>Jul 2012",
          "15, The Penningtons, Amersham, Buckinghamshire HP6 6EJ<br>3 beds<br>£260k<br>Jul 2012",
          "21, Highfield Close, Amersham, Buckinghamshire HP6 6HG<br>3 beds<br>£560k<br>Jul 2012",
          "105, Woodside Road, Amersham, Buckinghamshire HP6 6AL<br>3 beds<br>£579k<br>Jul 2012",
          "22, The Penningtons, Amersham, Buckinghamshire HP6 6EJ<br>3 beds<br>£270k<br>Jun 2012",
          "1, Meadow Drive, Amersham, Buckinghamshire HP6 6LB<br>3 beds<br>£265k<br>May 2012",
          "11, Grimsdells Lane, Amersham, Buckinghamshire HP6 6HF<br>1 beds<br>£222k<br>Dec 2011",
          "15, Green Lane, Amersham, Buckinghamshire HP6 6AR<br>3 beds<br>£495k<br>Dec 2011"
         ],
         "type": "scattermapbox"
        }
       ],
       "layout": {
        "autosize": true,
        "height": 1000,
        "mapbox": {
         "center": {
          "lat": 51.67752669999999,
          "lon": -0.5977812
         },
         "style": "carto-positron",
         "zoom": 16
        },
        "margin": {
         "b": 0,
         "l": 0,
         "r": 0,
         "t": 0
        },
        "template": {
         "data": {
          "bar": [
           {
            "error_x": {
             "color": "#2a3f5f"
            },
            "error_y": {
             "color": "#2a3f5f"
            },
            "marker": {
             "line": {
              "color": "#E5ECF6",
              "width": 0.5
             },
             "pattern": {
              "fillmode": "overlay",
              "size": 10,
              "solidity": 0.2
             }
            },
            "type": "bar"
           }
          ],
          "barpolar": [
           {
            "marker": {
             "line": {
              "color": "#E5ECF6",
              "width": 0.5
             },
             "pattern": {
              "fillmode": "overlay",
              "size": 10,
              "solidity": 0.2
             }
            },
            "type": "barpolar"
           }
          ],
          "carpet": [
           {
            "aaxis": {
             "endlinecolor": "#2a3f5f",
             "gridcolor": "white",
             "linecolor": "white",
             "minorgridcolor": "white",
             "startlinecolor": "#2a3f5f"
            },
            "baxis": {
             "endlinecolor": "#2a3f5f",
             "gridcolor": "white",
             "linecolor": "white",
             "minorgridcolor": "white",
             "startlinecolor": "#2a3f5f"
            },
            "type": "carpet"
           }
          ],
          "choropleth": [
           {
            "colorbar": {
             "outlinewidth": 0,
             "ticks": ""
            },
            "type": "choropleth"
           }
          ],
          "contour": [
           {
            "colorbar": {
             "outlinewidth": 0,
             "ticks": ""
            },
            "colorscale": [
             [
              0,
              "#0d0887"
             ],
             [
              0.1111111111111111,
              "#46039f"
             ],
             [
              0.2222222222222222,
              "#7201a8"
             ],
             [
              0.3333333333333333,
              "#9c179e"
             ],
             [
              0.4444444444444444,
              "#bd3786"
             ],
             [
              0.5555555555555556,
              "#d8576b"
             ],
             [
              0.6666666666666666,
              "#ed7953"
             ],
             [
              0.7777777777777778,
              "#fb9f3a"
             ],
             [
              0.8888888888888888,
              "#fdca26"
             ],
             [
              1,
              "#f0f921"
             ]
            ],
            "type": "contour"
           }
          ],
          "contourcarpet": [
           {
            "colorbar": {
             "outlinewidth": 0,
             "ticks": ""
            },
            "type": "contourcarpet"
           }
          ],
          "heatmap": [
           {
            "colorbar": {
             "outlinewidth": 0,
             "ticks": ""
            },
            "colorscale": [
             [
              0,
              "#0d0887"
             ],
             [
              0.1111111111111111,
              "#46039f"
             ],
             [
              0.2222222222222222,
              "#7201a8"
             ],
             [
              0.3333333333333333,
              "#9c179e"
             ],
             [
              0.4444444444444444,
              "#bd3786"
             ],
             [
              0.5555555555555556,
              "#d8576b"
             ],
             [
              0.6666666666666666,
              "#ed7953"
             ],
             [
              0.7777777777777778,
              "#fb9f3a"
             ],
             [
              0.8888888888888888,
              "#fdca26"
             ],
             [
              1,
              "#f0f921"
             ]
            ],
            "type": "heatmap"
           }
          ],
          "heatmapgl": [
           {
            "colorbar": {
             "outlinewidth": 0,
             "ticks": ""
            },
            "colorscale": [
             [
              0,
              "#0d0887"
             ],
             [
              0.1111111111111111,
              "#46039f"
             ],
             [
              0.2222222222222222,
              "#7201a8"
             ],
             [
              0.3333333333333333,
              "#9c179e"
             ],
             [
              0.4444444444444444,
              "#bd3786"
             ],
             [
              0.5555555555555556,
              "#d8576b"
             ],
             [
              0.6666666666666666,
              "#ed7953"
             ],
             [
              0.7777777777777778,
              "#fb9f3a"
             ],
             [
              0.8888888888888888,
              "#fdca26"
             ],
             [
              1,
              "#f0f921"
             ]
            ],
            "type": "heatmapgl"
           }
          ],
          "histogram": [
           {
            "marker": {
             "pattern": {
              "fillmode": "overlay",
              "size": 10,
              "solidity": 0.2
             }
            },
            "type": "histogram"
           }
          ],
          "histogram2d": [
           {
            "colorbar": {
             "outlinewidth": 0,
             "ticks": ""
            },
            "colorscale": [
             [
              0,
              "#0d0887"
             ],
             [
              0.1111111111111111,
              "#46039f"
             ],
             [
              0.2222222222222222,
              "#7201a8"
             ],
             [
              0.3333333333333333,
              "#9c179e"
             ],
             [
              0.4444444444444444,
              "#bd3786"
             ],
             [
              0.5555555555555556,
              "#d8576b"
             ],
             [
              0.6666666666666666,
              "#ed7953"
             ],
             [
              0.7777777777777778,
              "#fb9f3a"
             ],
             [
              0.8888888888888888,
              "#fdca26"
             ],
             [
              1,
              "#f0f921"
             ]
            ],
            "type": "histogram2d"
           }
          ],
          "histogram2dcontour": [
           {
            "colorbar": {
             "outlinewidth": 0,
             "ticks": ""
            },
            "colorscale": [
             [
              0,
              "#0d0887"
             ],
             [
              0.1111111111111111,
              "#46039f"
             ],
             [
              0.2222222222222222,
              "#7201a8"
             ],
             [
              0.3333333333333333,
              "#9c179e"
             ],
             [
              0.4444444444444444,
              "#bd3786"
             ],
             [
              0.5555555555555556,
              "#d8576b"
             ],
             [
              0.6666666666666666,
              "#ed7953"
             ],
             [
              0.7777777777777778,
              "#fb9f3a"
             ],
             [
              0.8888888888888888,
              "#fdca26"
             ],
             [
              1,
              "#f0f921"
             ]
            ],
            "type": "histogram2dcontour"
           }
          ],
          "mesh3d": [
           {
            "colorbar": {
             "outlinewidth": 0,
             "ticks": ""
            },
            "type": "mesh3d"
           }
          ],
          "parcoords": [
           {
            "line": {
             "colorbar": {
              "outlinewidth": 0,
              "ticks": ""
             }
            },
            "type": "parcoords"
           }
          ],
          "pie": [
           {
            "automargin": true,
            "type": "pie"
           }
          ],
          "scatter": [
           {
            "marker": {
             "colorbar": {
              "outlinewidth": 0,
              "ticks": ""
             }
            },
            "type": "scatter"
           }
          ],
          "scatter3d": [
           {
            "line": {
             "colorbar": {
              "outlinewidth": 0,
              "ticks": ""
             }
            },
            "marker": {
             "colorbar": {
              "outlinewidth": 0,
              "ticks": ""
             }
            },
            "type": "scatter3d"
           }
          ],
          "scattercarpet": [
           {
            "marker": {
             "colorbar": {
              "outlinewidth": 0,
              "ticks": ""
             }
            },
            "type": "scattercarpet"
           }
          ],
          "scattergeo": [
           {
            "marker": {
             "colorbar": {
              "outlinewidth": 0,
              "ticks": ""
             }
            },
            "type": "scattergeo"
           }
          ],
          "scattergl": [
           {
            "marker": {
             "colorbar": {
              "outlinewidth": 0,
              "ticks": ""
             }
            },
            "type": "scattergl"
           }
          ],
          "scattermapbox": [
           {
            "marker": {
             "colorbar": {
              "outlinewidth": 0,
              "ticks": ""
             }
            },
            "type": "scattermapbox"
           }
          ],
          "scatterpolar": [
           {
            "marker": {
             "colorbar": {
              "outlinewidth": 0,
              "ticks": ""
             }
            },
            "type": "scatterpolar"
           }
          ],
          "scatterpolargl": [
           {
            "marker": {
             "colorbar": {
              "outlinewidth": 0,
              "ticks": ""
             }
            },
            "type": "scatterpolargl"
           }
          ],
          "scatterternary": [
           {
            "marker": {
             "colorbar": {
              "outlinewidth": 0,
              "ticks": ""
             }
            },
            "type": "scatterternary"
           }
          ],
          "surface": [
           {
            "colorbar": {
             "outlinewidth": 0,
             "ticks": ""
            },
            "colorscale": [
             [
              0,
              "#0d0887"
             ],
             [
              0.1111111111111111,
              "#46039f"
             ],
             [
              0.2222222222222222,
              "#7201a8"
             ],
             [
              0.3333333333333333,
              "#9c179e"
             ],
             [
              0.4444444444444444,
              "#bd3786"
             ],
             [
              0.5555555555555556,
              "#d8576b"
             ],
             [
              0.6666666666666666,
              "#ed7953"
             ],
             [
              0.7777777777777778,
              "#fb9f3a"
             ],
             [
              0.8888888888888888,
              "#fdca26"
             ],
             [
              1,
              "#f0f921"
             ]
            ],
            "type": "surface"
           }
          ],
          "table": [
           {
            "cells": {
             "fill": {
              "color": "#EBF0F8"
             },
             "line": {
              "color": "white"
             }
            },
            "header": {
             "fill": {
              "color": "#C8D4E3"
             },
             "line": {
              "color": "white"
             }
            },
            "type": "table"
           }
          ]
         },
         "layout": {
          "annotationdefaults": {
           "arrowcolor": "#2a3f5f",
           "arrowhead": 0,
           "arrowwidth": 1
          },
          "autotypenumbers": "strict",
          "coloraxis": {
           "colorbar": {
            "outlinewidth": 0,
            "ticks": ""
           }
          },
          "colorscale": {
           "diverging": [
            [
             0,
             "#8e0152"
            ],
            [
             0.1,
             "#c51b7d"
            ],
            [
             0.2,
             "#de77ae"
            ],
            [
             0.3,
             "#f1b6da"
            ],
            [
             0.4,
             "#fde0ef"
            ],
            [
             0.5,
             "#f7f7f7"
            ],
            [
             0.6,
             "#e6f5d0"
            ],
            [
             0.7,
             "#b8e186"
            ],
            [
             0.8,
             "#7fbc41"
            ],
            [
             0.9,
             "#4d9221"
            ],
            [
             1,
             "#276419"
            ]
           ],
           "sequential": [
            [
             0,
             "#0d0887"
            ],
            [
             0.1111111111111111,
             "#46039f"
            ],
            [
             0.2222222222222222,
             "#7201a8"
            ],
            [
             0.3333333333333333,
             "#9c179e"
            ],
            [
             0.4444444444444444,
             "#bd3786"
            ],
            [
             0.5555555555555556,
             "#d8576b"
            ],
            [
             0.6666666666666666,
             "#ed7953"
            ],
            [
             0.7777777777777778,
             "#fb9f3a"
            ],
            [
             0.8888888888888888,
             "#fdca26"
            ],
            [
             1,
             "#f0f921"
            ]
           ],
           "sequentialminus": [
            [
             0,
             "#0d0887"
            ],
            [
             0.1111111111111111,
             "#46039f"
            ],
            [
             0.2222222222222222,
             "#7201a8"
            ],
            [
             0.3333333333333333,
             "#9c179e"
            ],
            [
             0.4444444444444444,
             "#bd3786"
            ],
            [
             0.5555555555555556,
             "#d8576b"
            ],
            [
             0.6666666666666666,
             "#ed7953"
            ],
            [
             0.7777777777777778,
             "#fb9f3a"
            ],
            [
             0.8888888888888888,
             "#fdca26"
            ],
            [
             1,
             "#f0f921"
            ]
           ]
          },
          "colorway": [
           "#636efa",
           "#EF553B",
           "#00cc96",
           "#ab63fa",
           "#FFA15A",
           "#19d3f3",
           "#FF6692",
           "#B6E880",
           "#FF97FF",
           "#FECB52"
          ],
          "font": {
           "color": "#2a3f5f"
          },
          "geo": {
           "bgcolor": "white",
           "lakecolor": "white",
           "landcolor": "#E5ECF6",
           "showlakes": true,
           "showland": true,
           "subunitcolor": "white"
          },
          "hoverlabel": {
           "align": "left"
          },
          "hovermode": "closest",
          "mapbox": {
           "style": "light"
          },
          "paper_bgcolor": "white",
          "plot_bgcolor": "#E5ECF6",
          "polar": {
           "angularaxis": {
            "gridcolor": "white",
            "linecolor": "white",
            "ticks": ""
           },
           "bgcolor": "#E5ECF6",
           "radialaxis": {
            "gridcolor": "white",
            "linecolor": "white",
            "ticks": ""
           }
          },
          "scene": {
           "xaxis": {
            "backgroundcolor": "#E5ECF6",
            "gridcolor": "white",
            "gridwidth": 2,
            "linecolor": "white",
            "showbackground": true,
            "ticks": "",
            "zerolinecolor": "white"
           },
           "yaxis": {
            "backgroundcolor": "#E5ECF6",
            "gridcolor": "white",
            "gridwidth": 2,
            "linecolor": "white",
            "showbackground": true,
            "ticks": "",
            "zerolinecolor": "white"
           },
           "zaxis": {
            "backgroundcolor": "#E5ECF6",
            "gridcolor": "white",
            "gridwidth": 2,
            "linecolor": "white",
            "showbackground": true,
            "ticks": "",
            "zerolinecolor": "white"
           }
          },
          "shapedefaults": {
           "line": {
            "color": "#2a3f5f"
           }
          },
          "ternary": {
           "aaxis": {
            "gridcolor": "white",
            "linecolor": "white",
            "ticks": ""
           },
           "baxis": {
            "gridcolor": "white",
            "linecolor": "white",
            "ticks": ""
           },
           "bgcolor": "#E5ECF6",
           "caxis": {
            "gridcolor": "white",
            "linecolor": "white",
            "ticks": ""
           }
          },
          "title": {
           "x": 0.05
          },
          "xaxis": {
           "automargin": true,
           "gridcolor": "white",
           "linecolor": "white",
           "ticks": "",
           "title": {
            "standoff": 15
           },
           "zerolinecolor": "white",
           "zerolinewidth": 2
          },
          "yaxis": {
           "automargin": true,
           "gridcolor": "white",
           "linecolor": "white",
           "ticks": "",
           "title": {
            "standoff": 15
           },
           "zerolinecolor": "white",
           "zerolinewidth": 2
          }
         }
        }
       }
      }
     },
     "metadata": {},
     "output_type": "display_data"
    }
   ],
   "source": [
    "import plotly.graph_objects as go\n",
    "import plotly.express as px\n",
    "\n",
    "fig = go.Figure(go.Scattermapbox(\n",
    "        lat=df['geocoded'].apply(lambda x: x[0]),\n",
    "        lon=df['geocoded'].apply(lambda x: x[1]),\n",
    "        marker=dict(\n",
    "            size=df['size'],\n",
    "            color=df['1_price'],\n",
    "            colorscale='bluered',\n",
    "            showscale=True,\n",
    "            sizeref=max(df['size'])/20\n",
    "            ),\n",
    "        text=df['hover_text'],\n",
    "        mode='markers',\n",
    "    ))\n",
    "\n",
    "fig.update_layout(\n",
    "    mapbox_style=\"carto-positron\",\n",
    "    margin={\"r\":0,\"t\":0,\"l\":0,\"b\":0},\n",
    "    autosize=True,\n",
    "    height=1000,\n",
    "    mapbox=dict(\n",
    "        center=dict(\n",
    "            lat=map_centre[0],\n",
    "            lon=map_centre[1]\n",
    "        ),\n",
    "        zoom=16\n",
    "        ))\n",
    "fig.show()"
   ]
  }
 ],
 "metadata": {
  "interpreter": {
   "hash": "10b24f9ae05dd158b6b525ea86382ba6ae283167f29ba7cf9942217576627c33"
  },
  "kernelspec": {
   "display_name": "Python 3.9.5 ('base')",
   "language": "python",
   "name": "python3"
  },
  "language_info": {
   "codemirror_mode": {
    "name": "ipython",
    "version": 3
   },
   "file_extension": ".py",
   "mimetype": "text/x-python",
   "name": "python",
   "nbconvert_exporter": "python",
   "pygments_lexer": "ipython3",
   "version": "3.9.5"
  },
  "orig_nbformat": 4
 },
 "nbformat": 4,
 "nbformat_minor": 2
}
